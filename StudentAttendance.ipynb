{
 "cells": [
  {
   "cell_type": "code",
   "execution_count": 110,
   "metadata": {},
   "outputs": [
    {
     "name": "stdout",
     "output_type": "stream",
     "text": [
      "{'CHAITANYA': 6, 'GAL GADOT': 1}\n"
     ]
    },
    {
     "data": {
      "text/plain": [
       "(0.0, 6.0)"
      ]
     },
     "execution_count": 110,
     "metadata": {},
     "output_type": "execute_result"
    },
    {
     "data": {
      "image/png": "[encoded data removed]",
      "text/plain": [
       "<Figure size 432x288 with 1 Axes>"
      ]
     },
     "metadata": {
      "needs_background": "light"
     },
     "output_type": "display_data"
    }
   ],
   "source": [
    "import pandas as pd\n",
    "import matplotlib.pyplot as plt\n",
    "df=pd.read_csv(\"FinalAttendance.csv\",header=None)\n",
    "df.head()\n",
    "dicto={}\n",
    "for i in df.iterrows():\n",
    "    if i[1][0] in dicto:\n",
    "        dicto[i[1][0]]+=1\n",
    "    else:\n",
    "        dicto[i[1][0]]=1\n",
    "print(dicto)\n",
    "l1=[]\n",
    "l2=[]\n",
    "for i in dicto:\n",
    "    l1.append(i)\n",
    "    l2.append(dicto[i])\n",
    "dict={'Name':l1,'Present':l2}\n",
    "nf=pd.DataFrame(dict)\n",
    "nf.head()\n",
    "k=dicto.keys()\n",
    "v=dicto.values()\n",
    "plt.bar(k,v)\n",
    "plt.ylim(0,6)"
   ]
  },
  {
   "cell_type": "code",
   "execution_count": 107,
   "metadata": {},
   "outputs": [
    {
     "ename": "SyntaxError",
     "evalue": "invalid syntax (__init__.py, line 3)",
     "output_type": "error",
     "traceback": [
      "Traceback \u001b[1;36m(most recent call last)\u001b[0m:\n",
      "  File \u001b[0;32m\"C:\\Users\\chaitanya\\anaconda3\\lib\\site-packages\\IPython\\core\\interactiveshell.py\"\u001b[0m, line \u001b[0;32m3418\u001b[0m, in \u001b[0;35mrun_code\u001b[0m\n    exec(code_obj, self.user_global_ns, self.user_ns)\n",
      "\u001b[1;36m  File \u001b[1;32m\"<ipython-input-107-0cf6b426e51e>\"\u001b[1;36m, line \u001b[1;32m1\u001b[1;36m, in \u001b[1;35m<module>\u001b[1;36m\u001b[0m\n\u001b[1;33m    from firebase import firebase\u001b[0m\n",
      "\u001b[1;36m  File \u001b[1;32m\"C:\\Users\\chaitanya\\anaconda3\\lib\\site-packages\\firebase\\__init__.py\"\u001b[1;36m, line \u001b[1;32m3\u001b[0m\n\u001b[1;33m    from .async import process_pool\u001b[0m\n\u001b[1;37m          ^\u001b[0m\n\u001b[1;31mSyntaxError\u001b[0m\u001b[1;31m:\u001b[0m invalid syntax\n"
     ]
    }
   ],
   "source": [
    "from firebase import firebase\n",
    "\n",
    "firebase=firebase.FirebaseApplication(\"https://miniprojectdb-761be-default-rtdb.firebaseio.com/\",None)\n",
    "result=firebase.post('miniprojectdb-761be-default-rtdb/Student',dicto)\n",
    "print(result)"
   ]
  },
  {
   "cell_type": "code",
   "execution_count": 106,
   "metadata": {},
   "outputs": [
    {
     "name": "stdout",
     "output_type": "stream",
     "text": [
      "Requirement already satisfied: requests in c:\\users\\chaitanya\\anaconda3\\lib\\site-packages (2.24.0)\n",
      "Requirement already satisfied: urllib3!=1.25.0,!=1.25.1,<1.26,>=1.21.1 in c:\\users\\chaitanya\\anaconda3\\lib\\site-packages (from requests) (1.25.11)\n",
      "Requirement already satisfied: idna<3,>=2.5 in c:\\users\\chaitanya\\anaconda3\\lib\\site-packages (from requests) (2.10)\n",
      "Requirement already satisfied: chardet<4,>=3.0.2 in c:\\users\\chaitanya\\anaconda3\\lib\\site-packages (from requests) (3.0.4)\n",
      "Requirement already satisfied: certifi>=2017.4.17 in c:\\users\\chaitanya\\anaconda3\\lib\\site-packages (from requests) (2020.6.20)\n",
      "Note: you may need to restart the kernel to use updated packages.\n"
     ]
    }
   ],
   "source": [
    "pip install requests"
   ]
  },
  {
   "cell_type": "code",
   "execution_count": 102,
   "metadata": {},
   "outputs": [
    {
     "name": "stdout",
     "output_type": "stream",
     "text": [
      "Collecting python-firebase\n",
      "  Using cached python-firebase-1.2.tar.gz (10 kB)\n",
      "Requirement already satisfied: requests>=1.1.0 in c:\\users\\chaitanya\\anaconda3\\lib\\site-packages (from python-firebase) (2.24.0)\n",
      "Requirement already satisfied: urllib3!=1.25.0,!=1.25.1,<1.26,>=1.21.1 in c:\\users\\chaitanya\\anaconda3\\lib\\site-packages (from requests>=1.1.0->python-firebase) (1.25.11)\n",
      "Requirement already satisfied: chardet<4,>=3.0.2 in c:\\users\\chaitanya\\anaconda3\\lib\\site-packages (from requests>=1.1.0->python-firebase) (3.0.4)\n",
      "Requirement already satisfied: certifi>=2017.4.17 in c:\\users\\chaitanya\\anaconda3\\lib\\site-packages (from requests>=1.1.0->python-firebase) (2020.6.20)\n",
      "Requirement already satisfied: idna<3,>=2.5 in c:\\users\\chaitanya\\anaconda3\\lib\\site-packages (from requests>=1.1.0->python-firebase) (2.10)\n",
      "Building wheels for collected packages: python-firebase\n",
      "  Building wheel for python-firebase (setup.py): started\n",
      "  Building wheel for python-firebase (setup.py): finished with status 'done'\n",
      "  Created wheel for python-firebase: filename=python_firebase-1.2-py3-none-any.whl size=11538 sha256=59c398f318701fc810fe34f8b4e1b51055350dbb5f0b8962de5ad0e597ba35bb\n",
      "  Stored in directory: c:\\users\\chaitanya\\appdata\\local\\pip\\cache\\wheels\\73\\23\\37\\f54d62a02ee475ccc69f294e04f4a9f77ebcb54a2615bdcf28\n",
      "Successfully built python-firebase\n",
      "Installing collected packages: python-firebase\n",
      "Successfully installed python-firebase-1.2\n",
      "Note: you may need to restart the kernel to use updated packages.\n"
     ]
    }
   ],
   "source": [
    "pip install python-firebase"
   ]
  },
  {
   "cell_type": "code",
   "execution_count": null,
   "metadata": {},
   "outputs": [],
   "source": []
  },
  {
   "cell_type": "code",
   "execution_count": null,
   "metadata": {},
   "outputs": [],
   "source": []
  },
  {
   "cell_type": "code",
   "execution_count": null,
   "metadata": {},
   "outputs": [],
   "source": []
  },
  {
   "cell_type": "code",
   "execution_count": null,
   "metadata": {},
   "outputs": [],
   "source": []
  },
  {
   "cell_type": "code",
   "execution_count": null,
   "metadata": {},
   "outputs": [],
   "source": []
  },
  {
   "cell_type": "code",
   "execution_count": null,
   "metadata": {},
   "outputs": [],
   "source": []
  },
  {
   "cell_type": "code",
   "execution_count": null,
   "metadata": {},
   "outputs": [],
   "source": [
    "\n",
    "    \n"
   ]
  },
  {
   "cell_type": "code",
   "execution_count": null,
   "metadata": {},
   "outputs": [],
   "source": []
  },
  {
   "cell_type": "code",
   "execution_count": null,
   "metadata": {},
   "outputs": [],
   "source": []
  },
  {
   "cell_type": "code",
   "execution_count": null,
   "metadata": {},
   "outputs": [],
   "source": []
  },
  {
   "cell_type": "code",
   "execution_count": null,
   "metadata": {},
   "outputs": [],
   "source": []
  }
 ],
 "metadata": {
  "kernelspec": {
   "display_name": "Python 3",
   "language": "python",
   "name": "python3"
  },
  "language_info": {
   "codemirror_mode": {
    "name": "ipython",
    "version": 3
   },
   "file_extension": ".py",
   "mimetype": "text/x-python",
   "name": "python",
   "nbconvert_exporter": "python",
   "pygments_lexer": "ipython3",
   "version": "3.8.5"
  }
 },
 "nbformat": 4,
 "nbformat_minor": 4
}
